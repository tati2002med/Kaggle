{
 "cells": [
  {
   "cell_type": "markdown",
   "id": "9436dd09",
   "metadata": {
    "papermill": {
     "duration": 0.009103,
     "end_time": "2022-08-16T00:33:29.745278",
     "exception": false,
     "start_time": "2022-08-16T00:33:29.736175",
     "status": "completed"
    },
    "tags": []
   },
   "source": [
    "# **Data Engineer Project - ETL PIPELINE**\n",
    "***This project provided by IBM - Coursera***"
   ]
  },
  {
   "cell_type": "markdown",
   "id": "486ff916",
   "metadata": {
    "papermill": {
     "duration": 0.007397,
     "end_time": "2022-08-16T00:33:29.760598",
     "exception": false,
     "start_time": "2022-08-16T00:33:29.753201",
     "status": "completed"
    },
    "tags": []
   },
   "source": [
    "# Objectives\n",
    "In this project we will:\n",
    "\n",
    "+ Run the ETL process\n",
    "+ Extract bank and market cap data from the JSON file bank_market_cap.json\n",
    "+ Transform the market cap currency using the exchange rate data\n",
    "+ Load the transformed data into a seperate CSV"
   ]
  },
  {
   "cell_type": "markdown",
   "id": "2f878f11",
   "metadata": {
    "papermill": {
     "duration": 0.007392,
     "end_time": "2022-08-16T00:33:29.775512",
     "exception": false,
     "start_time": "2022-08-16T00:33:29.768120",
     "status": "completed"
    },
    "tags": []
   },
   "source": [
    "# Imports\n",
    "Let's download the files that we need and import python libraries wanted for this project."
   ]
  },
  {
   "cell_type": "markdown",
   "id": "a14527a3",
   "metadata": {
    "papermill": {
     "duration": 0.007075,
     "end_time": "2022-08-16T00:33:29.790390",
     "exception": false,
     "start_time": "2022-08-16T00:33:29.783315",
     "status": "completed"
    },
    "tags": []
   },
   "source": [
    "> **Downloading the files**"
   ]
  },
  {
   "cell_type": "code",
   "execution_count": 1,
   "id": "e56c7182",
   "metadata": {
    "execution": {
     "iopub.execute_input": "2022-08-16T00:33:29.807709Z",
     "iopub.status.busy": "2022-08-16T00:33:29.806414Z",
     "iopub.status.idle": "2022-08-16T00:33:34.921952Z",
     "shell.execute_reply": "2022-08-16T00:33:34.919918Z"
    },
    "papermill": {
     "duration": 5.127289,
     "end_time": "2022-08-16T00:33:34.924894",
     "exception": false,
     "start_time": "2022-08-16T00:33:29.797605",
     "status": "completed"
    },
    "tags": []
   },
   "outputs": [
    {
     "name": "stdout",
     "output_type": "stream",
     "text": [
      "--2022-08-16 00:33:30--  https://cf-courses-data.s3.us.cloud-object-storage.appdomain.cloud/IBMDeveloperSkillsNetwork-PY0221EN-SkillsNetwork/labs/module%206/Lab%20-%20Extract%20Transform%20Load/data/bank_market_cap_1.json\r\n",
      "Resolving cf-courses-data.s3.us.cloud-object-storage.appdomain.cloud (cf-courses-data.s3.us.cloud-object-storage.appdomain.cloud)... 198.23.119.245\r\n",
      "Connecting to cf-courses-data.s3.us.cloud-object-storage.appdomain.cloud (cf-courses-data.s3.us.cloud-object-storage.appdomain.cloud)|198.23.119.245|:443... connected.\r\n",
      "HTTP request sent, awaiting response... 200 OK\r\n",
      "Length: 2815 (2.7K) [application/json]\r\n",
      "Saving to: ‘bank_market_cap_1.json’\r\n",
      "\r\n",
      "bank_market_cap_1.j 100%[===================>]   2.75K  --.-KB/s    in 0s      \r\n",
      "\r\n",
      "2022-08-16 00:33:31 (213 MB/s) - ‘bank_market_cap_1.json’ saved [2815/2815]\r\n",
      "\r\n",
      "--2022-08-16 00:33:32--  https://cf-courses-data.s3.us.cloud-object-storage.appdomain.cloud/IBMDeveloperSkillsNetwork-PY0221EN-SkillsNetwork/labs/module%206/Lab%20-%20Extract%20Transform%20Load/data/bank_market_cap_2.json\r\n",
      "Resolving cf-courses-data.s3.us.cloud-object-storage.appdomain.cloud (cf-courses-data.s3.us.cloud-object-storage.appdomain.cloud)... 198.23.119.245\r\n",
      "Connecting to cf-courses-data.s3.us.cloud-object-storage.appdomain.cloud (cf-courses-data.s3.us.cloud-object-storage.appdomain.cloud)|198.23.119.245|:443... connected.\r\n",
      "HTTP request sent, awaiting response... 200 OK\r\n",
      "Length: 1429 (1.4K) [application/json]\r\n",
      "Saving to: ‘bank_market_cap_2.json’\r\n",
      "\r\n",
      "bank_market_cap_2.j 100%[===================>]   1.40K  --.-KB/s    in 0s      \r\n",
      "\r\n",
      "2022-08-16 00:33:33 (164 MB/s) - ‘bank_market_cap_2.json’ saved [1429/1429]\r\n",
      "\r\n",
      "--2022-08-16 00:33:34--  https://cf-courses-data.s3.us.cloud-object-storage.appdomain.cloud/IBMDeveloperSkillsNetwork-PY0221EN-SkillsNetwork/labs/module%206/Final%20Assignment/exchange_rates.csv\r\n",
      "Resolving cf-courses-data.s3.us.cloud-object-storage.appdomain.cloud (cf-courses-data.s3.us.cloud-object-storage.appdomain.cloud)... 198.23.119.245\r\n",
      "Connecting to cf-courses-data.s3.us.cloud-object-storage.appdomain.cloud (cf-courses-data.s3.us.cloud-object-storage.appdomain.cloud)|198.23.119.245|:443... connected.\r\n",
      "HTTP request sent, awaiting response... 200 OK\r\n",
      "Length: 590 [text/csv]\r\n",
      "Saving to: ‘exchange_rates.csv’\r\n",
      "\r\n",
      "exchange_rates.csv  100%[===================>]     590  --.-KB/s    in 0s      \r\n",
      "\r\n",
      "2022-08-16 00:33:34 (4.50 MB/s) - ‘exchange_rates.csv’ saved [590/590]\r\n",
      "\r\n",
      "Setup Complete\n"
     ]
    }
   ],
   "source": [
    "!wget https://cf-courses-data.s3.us.cloud-object-storage.appdomain.cloud/IBMDeveloperSkillsNetwork-PY0221EN-SkillsNetwork/labs/module%206/Lab%20-%20Extract%20Transform%20Load/data/bank_market_cap_1.json\n",
    "!wget https://cf-courses-data.s3.us.cloud-object-storage.appdomain.cloud/IBMDeveloperSkillsNetwork-PY0221EN-SkillsNetwork/labs/module%206/Lab%20-%20Extract%20Transform%20Load/data/bank_market_cap_2.json\n",
    "!wget https://cf-courses-data.s3.us.cloud-object-storage.appdomain.cloud/IBMDeveloperSkillsNetwork-PY0221EN-SkillsNetwork/labs/module%206/Final%20Assignment/exchange_rates.csv\n",
    "\n",
    "print('Setup Complete')"
   ]
  },
  {
   "cell_type": "markdown",
   "id": "af9ad012",
   "metadata": {
    "papermill": {
     "duration": 0.0078,
     "end_time": "2022-08-16T00:33:34.941356",
     "exception": false,
     "start_time": "2022-08-16T00:33:34.933556",
     "status": "completed"
    },
    "tags": []
   },
   "source": [
    "> **Importing python libraries**"
   ]
  },
  {
   "cell_type": "code",
   "execution_count": 2,
   "id": "95c203eb",
   "metadata": {
    "execution": {
     "iopub.execute_input": "2022-08-16T00:33:34.960090Z",
     "iopub.status.busy": "2022-08-16T00:33:34.959656Z",
     "iopub.status.idle": "2022-08-16T00:33:34.964848Z",
     "shell.execute_reply": "2022-08-16T00:33:34.963621Z"
    },
    "papermill": {
     "duration": 0.017563,
     "end_time": "2022-08-16T00:33:34.967107",
     "exception": false,
     "start_time": "2022-08-16T00:33:34.949544",
     "status": "completed"
    },
    "tags": []
   },
   "outputs": [],
   "source": [
    "import glob\n",
    "import pandas as pd\n",
    "from datetime import datetime"
   ]
  },
  {
   "cell_type": "markdown",
   "id": "d7691fad",
   "metadata": {
    "papermill": {
     "duration": 0.007808,
     "end_time": "2022-08-16T00:33:34.983063",
     "exception": false,
     "start_time": "2022-08-16T00:33:34.975255",
     "status": "completed"
    },
    "tags": []
   },
   "source": [
    "# EXTRACT\n",
    "> **Extracting from JSON file.**"
   ]
  },
  {
   "cell_type": "code",
   "execution_count": 3,
   "id": "8201024a",
   "metadata": {
    "execution": {
     "iopub.execute_input": "2022-08-16T00:33:35.002999Z",
     "iopub.status.busy": "2022-08-16T00:33:35.002456Z",
     "iopub.status.idle": "2022-08-16T00:33:35.007785Z",
     "shell.execute_reply": "2022-08-16T00:33:35.006523Z"
    },
    "papermill": {
     "duration": 0.01752,
     "end_time": "2022-08-16T00:33:35.010068",
     "exception": false,
     "start_time": "2022-08-16T00:33:34.992548",
     "status": "completed"
    },
    "tags": []
   },
   "outputs": [],
   "source": [
    "def extract_from_json(file):\n",
    "    # Reading the JSON file into a dataframe\n",
    "    df = pd.read_json(file)\n",
    "    \n",
    "    return df"
   ]
  },
  {
   "cell_type": "markdown",
   "id": "caea043a",
   "metadata": {
    "papermill": {
     "duration": 0.007985,
     "end_time": "2022-08-16T00:33:35.026410",
     "exception": false,
     "start_time": "2022-08-16T00:33:35.018425",
     "status": "completed"
    },
    "tags": []
   },
   "source": [
    "> **Extract Function.**\n",
    "+ Define the extract function that finds JSON files and calls the function created above to extract data from them. Store the data in a pandas dataframe."
   ]
  },
  {
   "cell_type": "code",
   "execution_count": 4,
   "id": "0d485855",
   "metadata": {
    "execution": {
     "iopub.execute_input": "2022-08-16T00:33:35.044712Z",
     "iopub.status.busy": "2022-08-16T00:33:35.044318Z",
     "iopub.status.idle": "2022-08-16T00:33:35.050309Z",
     "shell.execute_reply": "2022-08-16T00:33:35.049046Z"
    },
    "papermill": {
     "duration": 0.018013,
     "end_time": "2022-08-16T00:33:35.052648",
     "exception": false,
     "start_time": "2022-08-16T00:33:35.034635",
     "status": "completed"
    },
    "tags": []
   },
   "outputs": [],
   "source": [
    "def extract():\n",
    "    # The extracted data\n",
    "    df = pd.DataFrame()\n",
    "    \n",
    "    # Process JSON files\n",
    "    for file in glob.glob('*.json'):\n",
    "        df = df.append(extract_from_json(file), ignore_index=True)\n",
    "    \n",
    "    return df     "
   ]
  },
  {
   "cell_type": "markdown",
   "id": "8ee4e05c",
   "metadata": {
    "papermill": {
     "duration": 0.007853,
     "end_time": "2022-08-16T00:33:35.068913",
     "exception": false,
     "start_time": "2022-08-16T00:33:35.061060",
     "status": "completed"
    },
    "tags": []
   },
   "source": [
    "> Loading the file **exchange_rates.csv** as a dataframe and finding the **exchange rate** for British pounds with the symbol **GBP**, storing it in the variable ***exchange_rate***, we will need it later."
   ]
  },
  {
   "cell_type": "code",
   "execution_count": 5,
   "id": "f21afffc",
   "metadata": {
    "execution": {
     "iopub.execute_input": "2022-08-16T00:33:35.087099Z",
     "iopub.status.busy": "2022-08-16T00:33:35.086501Z",
     "iopub.status.idle": "2022-08-16T00:33:35.124098Z",
     "shell.execute_reply": "2022-08-16T00:33:35.123207Z"
    },
    "papermill": {
     "duration": 0.049134,
     "end_time": "2022-08-16T00:33:35.126134",
     "exception": false,
     "start_time": "2022-08-16T00:33:35.077000",
     "status": "completed"
    },
    "tags": []
   },
   "outputs": [
    {
     "data": {
      "text/html": [
       "<div>\n",
       "<style scoped>\n",
       "    .dataframe tbody tr th:only-of-type {\n",
       "        vertical-align: middle;\n",
       "    }\n",
       "\n",
       "    .dataframe tbody tr th {\n",
       "        vertical-align: top;\n",
       "    }\n",
       "\n",
       "    .dataframe thead th {\n",
       "        text-align: right;\n",
       "    }\n",
       "</style>\n",
       "<table border=\"1\" class=\"dataframe\">\n",
       "  <thead>\n",
       "    <tr style=\"text-align: right;\">\n",
       "      <th></th>\n",
       "      <th>Rates</th>\n",
       "    </tr>\n",
       "  </thead>\n",
       "  <tbody>\n",
       "    <tr>\n",
       "      <th>AUD</th>\n",
       "      <td>1.297088</td>\n",
       "    </tr>\n",
       "    <tr>\n",
       "      <th>BGN</th>\n",
       "      <td>1.608653</td>\n",
       "    </tr>\n",
       "    <tr>\n",
       "      <th>BRL</th>\n",
       "      <td>5.409196</td>\n",
       "    </tr>\n",
       "    <tr>\n",
       "      <th>CAD</th>\n",
       "      <td>1.271426</td>\n",
       "    </tr>\n",
       "    <tr>\n",
       "      <th>CHF</th>\n",
       "      <td>0.886083</td>\n",
       "    </tr>\n",
       "  </tbody>\n",
       "</table>\n",
       "</div>"
      ],
      "text/plain": [
       "        Rates\n",
       "AUD  1.297088\n",
       "BGN  1.608653\n",
       "BRL  5.409196\n",
       "CAD  1.271426\n",
       "CHF  0.886083"
      ]
     },
     "execution_count": 5,
     "metadata": {},
     "output_type": "execute_result"
    }
   ],
   "source": [
    "# Loading the data\n",
    "df = pd.read_csv('exchange_rates.csv', index_col=0)\n",
    "df.head()"
   ]
  },
  {
   "cell_type": "code",
   "execution_count": 6,
   "id": "ce3141f5",
   "metadata": {
    "execution": {
     "iopub.execute_input": "2022-08-16T00:33:35.145253Z",
     "iopub.status.busy": "2022-08-16T00:33:35.144806Z",
     "iopub.status.idle": "2022-08-16T00:33:35.153668Z",
     "shell.execute_reply": "2022-08-16T00:33:35.152016Z"
    },
    "papermill": {
     "duration": 0.021454,
     "end_time": "2022-08-16T00:33:35.156056",
     "exception": false,
     "start_time": "2022-08-16T00:33:35.134602",
     "status": "completed"
    },
    "tags": []
   },
   "outputs": [
    {
     "name": "stdout",
     "output_type": "stream",
     "text": [
      "The exchange rate is 0.732398\n"
     ]
    }
   ],
   "source": [
    "# Finding the exchange rate for British pounds with the symbol GBP\n",
    "exchange_rate = df.loc['GBP'][0]\n",
    "print(f'The exchange rate is {exchange_rate:.6f}')"
   ]
  },
  {
   "cell_type": "markdown",
   "id": "aae00bec",
   "metadata": {
    "papermill": {
     "duration": 0.008114,
     "end_time": "2022-08-16T00:33:35.172884",
     "exception": false,
     "start_time": "2022-08-16T00:33:35.164770",
     "status": "completed"
    },
    "tags": []
   },
   "source": [
    "# TRANSFORM\n",
    "> **Writing a transform function that:**\n",
    "\n",
    "+ Changes the '**Market Cap (US Billion)**' column from **USD** to **GBP**\n",
    "+ Rounds the '**Market Cap (US Billion)**' column to **3 decimal places**\n",
    "+ Rename '**Market Cap (US Billion)**' to '**Market Cap (GBP Billion)**'"
   ]
  },
  {
   "cell_type": "code",
   "execution_count": 7,
   "id": "33a332fd",
   "metadata": {
    "execution": {
     "iopub.execute_input": "2022-08-16T00:33:35.191661Z",
     "iopub.status.busy": "2022-08-16T00:33:35.191268Z",
     "iopub.status.idle": "2022-08-16T00:33:35.197448Z",
     "shell.execute_reply": "2022-08-16T00:33:35.196137Z"
    },
    "papermill": {
     "duration": 0.018566,
     "end_time": "2022-08-16T00:33:35.199849",
     "exception": false,
     "start_time": "2022-08-16T00:33:35.181283",
     "status": "completed"
    },
    "tags": []
   },
   "outputs": [],
   "source": [
    "def transform(data):\n",
    "    # Changing from USD to GBP\n",
    "    data['Market Cap (US$ Billion)'] = round(exchange_rate * data['Market Cap (US$ Billion)'], 3)\n",
    "    \n",
    "    # Renaming the column\n",
    "    data.rename(columns = {'Market Cap (US$ Billion)': 'Market Cap (GBP$ Billion)'}, inplace=True)\n",
    "    \n",
    "    return data"
   ]
  },
  {
   "cell_type": "markdown",
   "id": "7d9fb839",
   "metadata": {
    "papermill": {
     "duration": 0.008167,
     "end_time": "2022-08-16T00:33:35.216505",
     "exception": false,
     "start_time": "2022-08-16T00:33:35.208338",
     "status": "completed"
    },
    "tags": []
   },
   "source": [
    "# LOAD\n",
    "> **Create a function that takes a dataframe and load it to a CSV.**"
   ]
  },
  {
   "cell_type": "code",
   "execution_count": 8,
   "id": "313b7ea6",
   "metadata": {
    "execution": {
     "iopub.execute_input": "2022-08-16T00:33:35.235429Z",
     "iopub.status.busy": "2022-08-16T00:33:35.234972Z",
     "iopub.status.idle": "2022-08-16T00:33:35.239974Z",
     "shell.execute_reply": "2022-08-16T00:33:35.239027Z"
    },
    "papermill": {
     "duration": 0.017145,
     "end_time": "2022-08-16T00:33:35.242095",
     "exception": false,
     "start_time": "2022-08-16T00:33:35.224950",
     "status": "completed"
    },
    "tags": []
   },
   "outputs": [],
   "source": [
    "def load(target_file, data):\n",
    "    # Loading data to CSV file which is target_file.\n",
    "    data.to_csv(target_file, index=False)"
   ]
  },
  {
   "cell_type": "markdown",
   "id": "0b645e5d",
   "metadata": {
    "papermill": {
     "duration": 0.008242,
     "end_time": "2022-08-16T00:33:35.258943",
     "exception": false,
     "start_time": "2022-08-16T00:33:35.250701",
     "status": "completed"
    },
    "tags": []
   },
   "source": [
    "# LOGGING FUNCTION"
   ]
  },
  {
   "cell_type": "code",
   "execution_count": 9,
   "id": "223c627b",
   "metadata": {
    "execution": {
     "iopub.execute_input": "2022-08-16T00:33:35.277603Z",
     "iopub.status.busy": "2022-08-16T00:33:35.277131Z",
     "iopub.status.idle": "2022-08-16T00:33:35.284191Z",
     "shell.execute_reply": "2022-08-16T00:33:35.283004Z"
    },
    "papermill": {
     "duration": 0.019286,
     "end_time": "2022-08-16T00:33:35.286538",
     "exception": false,
     "start_time": "2022-08-16T00:33:35.267252",
     "status": "completed"
    },
    "tags": []
   },
   "outputs": [],
   "source": [
    "def log(msg):\n",
    "    # Year-Month-Day-Hour-Minute-Second\n",
    "    time_format = '%Y-%h-%d-%H:%M:%S'\n",
    "    \n",
    "    # get current time\n",
    "    now = datetime.now()\n",
    "    time = now.strftime(time_format)\n",
    "    \n",
    "    with open('./logfile.txt','a') as f:\n",
    "        f.write('- ' + time + ' , ' + msg + '.\\n')\n",
    "    "
   ]
  },
  {
   "cell_type": "markdown",
   "id": "227f7a9e",
   "metadata": {
    "papermill": {
     "duration": 0.008167,
     "end_time": "2022-08-16T00:33:35.303952",
     "exception": false,
     "start_time": "2022-08-16T00:33:35.295785",
     "status": "completed"
    },
    "tags": []
   },
   "source": [
    "# Running the ETL Process\n",
    "> **Logging the process accordingly:**"
   ]
  },
  {
   "cell_type": "code",
   "execution_count": 10,
   "id": "be37339d",
   "metadata": {
    "execution": {
     "iopub.execute_input": "2022-08-16T00:33:35.322652Z",
     "iopub.status.busy": "2022-08-16T00:33:35.322220Z",
     "iopub.status.idle": "2022-08-16T00:33:35.328002Z",
     "shell.execute_reply": "2022-08-16T00:33:35.326867Z"
    },
    "papermill": {
     "duration": 0.017677,
     "end_time": "2022-08-16T00:33:35.330100",
     "exception": false,
     "start_time": "2022-08-16T00:33:35.312423",
     "status": "completed"
    },
    "tags": []
   },
   "outputs": [],
   "source": [
    "log(\"ETL Job Started\")"
   ]
  },
  {
   "cell_type": "markdown",
   "id": "288fe6d3",
   "metadata": {
    "papermill": {
     "duration": 0.00864,
     "end_time": "2022-08-16T00:33:35.347527",
     "exception": false,
     "start_time": "2022-08-16T00:33:35.338887",
     "status": "completed"
    },
    "tags": []
   },
   "source": [
    "> **Extract**\n",
    "+ Use the function extract, and print the first 5 rows"
   ]
  },
  {
   "cell_type": "code",
   "execution_count": 11,
   "id": "b8804f09",
   "metadata": {
    "execution": {
     "iopub.execute_input": "2022-08-16T00:33:35.366511Z",
     "iopub.status.busy": "2022-08-16T00:33:35.366119Z",
     "iopub.status.idle": "2022-08-16T00:33:35.394081Z",
     "shell.execute_reply": "2022-08-16T00:33:35.392613Z"
    },
    "papermill": {
     "duration": 0.040781,
     "end_time": "2022-08-16T00:33:35.396960",
     "exception": false,
     "start_time": "2022-08-16T00:33:35.356179",
     "status": "completed"
    },
    "tags": []
   },
   "outputs": [
    {
     "data": {
      "text/html": [
       "<div>\n",
       "<style scoped>\n",
       "    .dataframe tbody tr th:only-of-type {\n",
       "        vertical-align: middle;\n",
       "    }\n",
       "\n",
       "    .dataframe tbody tr th {\n",
       "        vertical-align: top;\n",
       "    }\n",
       "\n",
       "    .dataframe thead th {\n",
       "        text-align: right;\n",
       "    }\n",
       "</style>\n",
       "<table border=\"1\" class=\"dataframe\">\n",
       "  <thead>\n",
       "    <tr style=\"text-align: right;\">\n",
       "      <th></th>\n",
       "      <th>Name</th>\n",
       "      <th>Market Cap (US$ Billion)</th>\n",
       "    </tr>\n",
       "  </thead>\n",
       "  <tbody>\n",
       "    <tr>\n",
       "      <th>0</th>\n",
       "      <td>JPMorgan Chase</td>\n",
       "      <td>390.934</td>\n",
       "    </tr>\n",
       "    <tr>\n",
       "      <th>1</th>\n",
       "      <td>Industrial and Commercial Bank of China</td>\n",
       "      <td>345.214</td>\n",
       "    </tr>\n",
       "    <tr>\n",
       "      <th>2</th>\n",
       "      <td>Bank of America</td>\n",
       "      <td>325.331</td>\n",
       "    </tr>\n",
       "    <tr>\n",
       "      <th>3</th>\n",
       "      <td>Wells Fargo</td>\n",
       "      <td>308.013</td>\n",
       "    </tr>\n",
       "    <tr>\n",
       "      <th>4</th>\n",
       "      <td>China Construction Bank</td>\n",
       "      <td>257.399</td>\n",
       "    </tr>\n",
       "  </tbody>\n",
       "</table>\n",
       "</div>"
      ],
      "text/plain": [
       "                                      Name  Market Cap (US$ Billion)\n",
       "0                           JPMorgan Chase                   390.934\n",
       "1  Industrial and Commercial Bank of China                   345.214\n",
       "2                          Bank of America                   325.331\n",
       "3                              Wells Fargo                   308.013\n",
       "4                  China Construction Bank                   257.399"
      ]
     },
     "execution_count": 11,
     "metadata": {},
     "output_type": "execute_result"
    }
   ],
   "source": [
    "log(\"Extract phase Started\")\n",
    "# Extracting data\n",
    "extracted_data = extract()\n",
    "\n",
    "# Printing the first five rows\n",
    "extracted_data.head()"
   ]
  },
  {
   "cell_type": "code",
   "execution_count": 12,
   "id": "4c033a52",
   "metadata": {
    "execution": {
     "iopub.execute_input": "2022-08-16T00:33:35.417320Z",
     "iopub.status.busy": "2022-08-16T00:33:35.416467Z",
     "iopub.status.idle": "2022-08-16T00:33:35.421626Z",
     "shell.execute_reply": "2022-08-16T00:33:35.420523Z"
    },
    "papermill": {
     "duration": 0.018283,
     "end_time": "2022-08-16T00:33:35.424011",
     "exception": false,
     "start_time": "2022-08-16T00:33:35.405728",
     "status": "completed"
    },
    "tags": []
   },
   "outputs": [],
   "source": [
    "log(\"Extract phase Ended\")"
   ]
  },
  {
   "cell_type": "markdown",
   "id": "de875c2a",
   "metadata": {
    "papermill": {
     "duration": 0.008745,
     "end_time": "2022-08-16T00:33:35.441655",
     "exception": false,
     "start_time": "2022-08-16T00:33:35.432910",
     "status": "completed"
    },
    "tags": []
   },
   "source": [
    "> **Transform**\n",
    "+ Use the function transform, and print the first 5 rows"
   ]
  },
  {
   "cell_type": "code",
   "execution_count": 13,
   "id": "9da5f6fe",
   "metadata": {
    "execution": {
     "iopub.execute_input": "2022-08-16T00:33:35.461197Z",
     "iopub.status.busy": "2022-08-16T00:33:35.460760Z",
     "iopub.status.idle": "2022-08-16T00:33:35.474476Z",
     "shell.execute_reply": "2022-08-16T00:33:35.473373Z"
    },
    "papermill": {
     "duration": 0.026738,
     "end_time": "2022-08-16T00:33:35.477132",
     "exception": false,
     "start_time": "2022-08-16T00:33:35.450394",
     "status": "completed"
    },
    "tags": []
   },
   "outputs": [
    {
     "data": {
      "text/html": [
       "<div>\n",
       "<style scoped>\n",
       "    .dataframe tbody tr th:only-of-type {\n",
       "        vertical-align: middle;\n",
       "    }\n",
       "\n",
       "    .dataframe tbody tr th {\n",
       "        vertical-align: top;\n",
       "    }\n",
       "\n",
       "    .dataframe thead th {\n",
       "        text-align: right;\n",
       "    }\n",
       "</style>\n",
       "<table border=\"1\" class=\"dataframe\">\n",
       "  <thead>\n",
       "    <tr style=\"text-align: right;\">\n",
       "      <th></th>\n",
       "      <th>Name</th>\n",
       "      <th>Market Cap (GBP$ Billion)</th>\n",
       "    </tr>\n",
       "  </thead>\n",
       "  <tbody>\n",
       "    <tr>\n",
       "      <th>0</th>\n",
       "      <td>JPMorgan Chase</td>\n",
       "      <td>286.319</td>\n",
       "    </tr>\n",
       "    <tr>\n",
       "      <th>1</th>\n",
       "      <td>Industrial and Commercial Bank of China</td>\n",
       "      <td>252.834</td>\n",
       "    </tr>\n",
       "    <tr>\n",
       "      <th>2</th>\n",
       "      <td>Bank of America</td>\n",
       "      <td>238.272</td>\n",
       "    </tr>\n",
       "    <tr>\n",
       "      <th>3</th>\n",
       "      <td>Wells Fargo</td>\n",
       "      <td>225.588</td>\n",
       "    </tr>\n",
       "    <tr>\n",
       "      <th>4</th>\n",
       "      <td>China Construction Bank</td>\n",
       "      <td>188.519</td>\n",
       "    </tr>\n",
       "  </tbody>\n",
       "</table>\n",
       "</div>"
      ],
      "text/plain": [
       "                                      Name  Market Cap (GBP$ Billion)\n",
       "0                           JPMorgan Chase                    286.319\n",
       "1  Industrial and Commercial Bank of China                    252.834\n",
       "2                          Bank of America                    238.272\n",
       "3                              Wells Fargo                    225.588\n",
       "4                  China Construction Bank                    188.519"
      ]
     },
     "execution_count": 13,
     "metadata": {},
     "output_type": "execute_result"
    }
   ],
   "source": [
    "log(\"Transform phase Started\")\n",
    "# Transforming the data\n",
    "transformed_data = transform(extracted_data)\n",
    "\n",
    "# Printing the first 5 rows\n",
    "transformed_data.head()"
   ]
  },
  {
   "cell_type": "code",
   "execution_count": 14,
   "id": "dd548023",
   "metadata": {
    "execution": {
     "iopub.execute_input": "2022-08-16T00:33:35.498117Z",
     "iopub.status.busy": "2022-08-16T00:33:35.497015Z",
     "iopub.status.idle": "2022-08-16T00:33:35.503114Z",
     "shell.execute_reply": "2022-08-16T00:33:35.501888Z"
    },
    "papermill": {
     "duration": 0.019434,
     "end_time": "2022-08-16T00:33:35.505799",
     "exception": false,
     "start_time": "2022-08-16T00:33:35.486365",
     "status": "completed"
    },
    "tags": []
   },
   "outputs": [],
   "source": [
    "log(\"Transform phase Ended\")"
   ]
  },
  {
   "cell_type": "markdown",
   "id": "cfbeae62",
   "metadata": {
    "papermill": {
     "duration": 0.008587,
     "end_time": "2022-08-16T00:33:35.523557",
     "exception": false,
     "start_time": "2022-08-16T00:33:35.514970",
     "status": "completed"
    },
    "tags": []
   },
   "source": [
    "> **Load**\n",
    "+ Loading data into a **CSV file**"
   ]
  },
  {
   "cell_type": "code",
   "execution_count": 15,
   "id": "44092170",
   "metadata": {
    "execution": {
     "iopub.execute_input": "2022-08-16T00:33:35.543134Z",
     "iopub.status.busy": "2022-08-16T00:33:35.542674Z",
     "iopub.status.idle": "2022-08-16T00:33:35.551723Z",
     "shell.execute_reply": "2022-08-16T00:33:35.550806Z"
    },
    "papermill": {
     "duration": 0.021616,
     "end_time": "2022-08-16T00:33:35.554065",
     "exception": false,
     "start_time": "2022-08-16T00:33:35.532449",
     "status": "completed"
    },
    "tags": []
   },
   "outputs": [],
   "source": [
    "# The file\n",
    "target = './loaded_data.csv'\n",
    "\n",
    "# Loading the data\n",
    "log(\"Load phase Started\")\n",
    "load(target, extracted_data)\n",
    "log(\"Load phase Ended\")"
   ]
  },
  {
   "cell_type": "markdown",
   "id": "7664b9d5",
   "metadata": {
    "papermill": {
     "duration": 0.008664,
     "end_time": "2022-08-16T00:33:35.571748",
     "exception": false,
     "start_time": "2022-08-16T00:33:35.563084",
     "status": "completed"
    },
    "tags": []
   },
   "source": [
    "# **Checking**\n",
    "> Checking if the data saved correctly in the file ***loaded_data.csv***"
   ]
  },
  {
   "cell_type": "code",
   "execution_count": 16,
   "id": "269b5fee",
   "metadata": {
    "execution": {
     "iopub.execute_input": "2022-08-16T00:33:35.591915Z",
     "iopub.status.busy": "2022-08-16T00:33:35.590974Z",
     "iopub.status.idle": "2022-08-16T00:33:35.606378Z",
     "shell.execute_reply": "2022-08-16T00:33:35.604809Z"
    },
    "papermill": {
     "duration": 0.028264,
     "end_time": "2022-08-16T00:33:35.608866",
     "exception": false,
     "start_time": "2022-08-16T00:33:35.580602",
     "status": "completed"
    },
    "tags": []
   },
   "outputs": [
    {
     "data": {
      "text/html": [
       "<div>\n",
       "<style scoped>\n",
       "    .dataframe tbody tr th:only-of-type {\n",
       "        vertical-align: middle;\n",
       "    }\n",
       "\n",
       "    .dataframe tbody tr th {\n",
       "        vertical-align: top;\n",
       "    }\n",
       "\n",
       "    .dataframe thead th {\n",
       "        text-align: right;\n",
       "    }\n",
       "</style>\n",
       "<table border=\"1\" class=\"dataframe\">\n",
       "  <thead>\n",
       "    <tr style=\"text-align: right;\">\n",
       "      <th></th>\n",
       "      <th>Name</th>\n",
       "      <th>Market Cap (GBP$ Billion)</th>\n",
       "    </tr>\n",
       "  </thead>\n",
       "  <tbody>\n",
       "    <tr>\n",
       "      <th>0</th>\n",
       "      <td>JPMorgan Chase</td>\n",
       "      <td>286.319</td>\n",
       "    </tr>\n",
       "    <tr>\n",
       "      <th>1</th>\n",
       "      <td>Industrial and Commercial Bank of China</td>\n",
       "      <td>252.834</td>\n",
       "    </tr>\n",
       "    <tr>\n",
       "      <th>2</th>\n",
       "      <td>Bank of America</td>\n",
       "      <td>238.272</td>\n",
       "    </tr>\n",
       "    <tr>\n",
       "      <th>3</th>\n",
       "      <td>Wells Fargo</td>\n",
       "      <td>225.588</td>\n",
       "    </tr>\n",
       "    <tr>\n",
       "      <th>4</th>\n",
       "      <td>China Construction Bank</td>\n",
       "      <td>188.519</td>\n",
       "    </tr>\n",
       "  </tbody>\n",
       "</table>\n",
       "</div>"
      ],
      "text/plain": [
       "                                      Name  Market Cap (GBP$ Billion)\n",
       "0                           JPMorgan Chase                    286.319\n",
       "1  Industrial and Commercial Bank of China                    252.834\n",
       "2                          Bank of America                    238.272\n",
       "3                              Wells Fargo                    225.588\n",
       "4                  China Construction Bank                    188.519"
      ]
     },
     "execution_count": 16,
     "metadata": {},
     "output_type": "execute_result"
    }
   ],
   "source": [
    "saved_data = pd.read_csv('./loaded_data.csv')\n",
    "saved_data.head()"
   ]
  },
  {
   "cell_type": "markdown",
   "id": "21103e99",
   "metadata": {
    "papermill": {
     "duration": 0.008988,
     "end_time": "2022-08-16T00:33:35.627615",
     "exception": false,
     "start_time": "2022-08-16T00:33:35.618627",
     "status": "completed"
    },
    "tags": []
   },
   "source": [
    "> Reading the **log file**"
   ]
  },
  {
   "cell_type": "code",
   "execution_count": 17,
   "id": "0956e663",
   "metadata": {
    "execution": {
     "iopub.execute_input": "2022-08-16T00:33:35.650324Z",
     "iopub.status.busy": "2022-08-16T00:33:35.648949Z",
     "iopub.status.idle": "2022-08-16T00:33:35.656836Z",
     "shell.execute_reply": "2022-08-16T00:33:35.655467Z"
    },
    "papermill": {
     "duration": 0.02201,
     "end_time": "2022-08-16T00:33:35.659359",
     "exception": false,
     "start_time": "2022-08-16T00:33:35.637349",
     "status": "completed"
    },
    "tags": []
   },
   "outputs": [
    {
     "name": "stdout",
     "output_type": "stream",
     "text": [
      "- 2022-Aug-16-00:33:35 , ETL Job Started.\n",
      "- 2022-Aug-16-00:33:35 , Extract phase Started.\n",
      "- 2022-Aug-16-00:33:35 , Extract phase Ended.\n",
      "- 2022-Aug-16-00:33:35 , Transform phase Started.\n",
      "- 2022-Aug-16-00:33:35 , Transform phase Ended.\n",
      "- 2022-Aug-16-00:33:35 , Load phase Started.\n",
      "- 2022-Aug-16-00:33:35 , Load phase Ended.\n",
      "\n"
     ]
    }
   ],
   "source": [
    "log_file = open('./logfile.txt', 'r')\n",
    "print(log_file.read())\n"
   ]
  }
 ],
 "metadata": {
  "kernelspec": {
   "display_name": "Python 3",
   "language": "python",
   "name": "python3"
  },
  "language_info": {
   "codemirror_mode": {
    "name": "ipython",
    "version": 3
   },
   "file_extension": ".py",
   "mimetype": "text/x-python",
   "name": "python",
   "nbconvert_exporter": "python",
   "pygments_lexer": "ipython3",
   "version": "3.7.12"
  },
  "papermill": {
   "default_parameters": {},
   "duration": 17.257865,
   "end_time": "2022-08-16T00:33:36.391085",
   "environment_variables": {},
   "exception": null,
   "input_path": "__notebook__.ipynb",
   "output_path": "__notebook__.ipynb",
   "parameters": {},
   "start_time": "2022-08-16T00:33:19.133220",
   "version": "2.3.4"
  }
 },
 "nbformat": 4,
 "nbformat_minor": 5
}
